{
 "cells": [
  {
   "cell_type": "markdown",
   "metadata": {},
   "source": [
    "---\n",
    "<a id=\"top\"></a>\n",
    "# Control Statements\n",
    "\n",
    "## Overview\n",
    "* [`if - else`](#if_else)\n",
    "* [`match-case`](#match)\n",
    "* Loops\n",
    "  * [Iterating over a container data structure (for loop)](#forloop)\n",
    "     * [Loop Control Statements](#control_statements)\n",
    "  * [Conditional loop (while)](#while_loops)\n",
    "* [Coffee Example](#coffee_example03)"
   ]
  },
  {
   "cell_type": "markdown",
   "metadata": {},
   "source": [
    "Without control statements commands are just executed one statement after the other, line by line. Control statements allow for __conditional execution__ of commands (branching) or __iterated execution__ of code (loops)."
   ]
  },
  {
   "cell_type": "markdown",
   "metadata": {},
   "source": [
    "---\n",
    "<a name=\"if_else\"></a>\n",
    "## [Conditional branching `if - else`](#top)"
   ]
  },
  {
   "cell_type": "markdown",
   "metadata": {},
   "source": [
    "`if` statements allow for the conditional execution of code. The keyword `if` is followed by a condition, which is evaluated. If the condition is `True`, the indented block following the `:`is executed. \n",
    "\n",
    "```Python\n",
    "if <condition>:\n",
    "    <Block of statements>\n",
    "```"
   ]
  },
  {
   "cell_type": "code",
   "execution_count": 1,
   "metadata": {},
   "outputs": [
    {
     "name": "stdout",
     "output_type": "stream",
     "text": [
      "This is a big number!\n",
      "This statement is executed unconditionally\n"
     ]
    }
   ],
   "source": [
    "x = 10\n",
    "if x > 5:\n",
    "    print ('This is a big number!') # this code is only executed, if x is greater than 5\n",
    "print(\"This statement is executed unconditionally\")"
   ]
  },
  {
   "cell_type": "markdown",
   "metadata": {},
   "source": [
    "> __Observe__: In Python a block is indented (usually by 4 spaces / 1 tab). The block starts after the `:` in the line of the `if` and its condition. It ends with the next line, which is not indented.\n",
    "\n",
    "The indented block can contain more than one statement."
   ]
  },
  {
   "cell_type": "code",
   "execution_count": 2,
   "metadata": {},
   "outputs": [
    {
     "name": "stdout",
     "output_type": "stream",
     "text": [
      "This is a big number!\n",
      "Its value is 10\n",
      "This statement is executed unconditionally\n"
     ]
    }
   ],
   "source": [
    "x = 10\n",
    "if x > 5:\n",
    "    print('This is a big number!') # this code is only executed, if x is greater than 5\n",
    "    print('Its value is', x)\n",
    "print(\"This statement is executed unconditionally\")"
   ]
  },
  {
   "cell_type": "markdown",
   "metadata": {},
   "source": [
    "If you change the value of `x` to 5 or lower, only the uncoditional (not indented) print statement is executed.\n",
    "\n",
    "To specify a reaction if a condition is not met (a _otherwise_ branch), we use the `else` block.\n",
    "\n",
    "```Python\n",
    "if <condition>:\n",
    "    <Block of statements>\n",
    "else:\n",
    "    <Block of statements>\n",
    "```"
   ]
  },
  {
   "cell_type": "code",
   "execution_count": 3,
   "metadata": {},
   "outputs": [
    {
     "name": "stdout",
     "output_type": "stream",
     "text": [
      "4 is a small number!\n"
     ]
    }
   ],
   "source": [
    "x = 4\n",
    "if x > 5:\n",
    "    print (x, 'is a big number!')\n",
    "else:\n",
    "    print (x, 'is a small number!') # this code is executed if x is not greater than 5"
   ]
  },
  {
   "cell_type": "markdown",
   "metadata": {},
   "source": [
    "To add some conditions to the otherwise-branch, we use the `elif` block. <br>\n",
    "This block is executed only, if the condition after `if` does not apply, but the condition after `elif` applies. `elif` is the short form of `else: if ...: ...`\n",
    "\n",
    "```Python\n",
    "if <condition>:\n",
    "    <Block of statements>\n",
    "elif <condition>:\n",
    "    <Block of statements>\n",
    "else:\n",
    "    <Block of statements>\n",
    "```"
   ]
  },
  {
   "cell_type": "code",
   "execution_count": 4,
   "metadata": {},
   "outputs": [
    {
     "name": "stdout",
     "output_type": "stream",
     "text": [
      "15 is a big number!\n"
     ]
    }
   ],
   "source": [
    "x = 15\n",
    "if x > 20:\n",
    "    print (x, 'is a very big number!') # this code is executed if x is greater than 20\n",
    "elif x > 10:\n",
    "    print (x, 'is a big number!') # this code is executed if x is greater than 10, but not greater than 20\n",
    "else:\n",
    "    print (x, 'is a small number!') # this code is executed if x is not greater than 10"
   ]
  },
  {
   "cell_type": "markdown",
   "metadata": {},
   "source": [
    "We can also do the same with a *hierarchical* if-else, which is less readable and more error prone:"
   ]
  },
  {
   "cell_type": "code",
   "execution_count": 5,
   "metadata": {},
   "outputs": [
    {
     "name": "stdout",
     "output_type": "stream",
     "text": [
      "15 is a big number!\n"
     ]
    }
   ],
   "source": [
    "x = 15\n",
    "if x > 20:\n",
    "    print (x, 'is a very big number!')\n",
    "else:\n",
    "    if x > 10:\n",
    "        print (x, 'is a big number!')\n",
    "    else:\n",
    "        print (x, 'is a small number!')"
   ]
  },
  {
   "cell_type": "markdown",
   "metadata": {},
   "source": [
    "We are not limited to comparisons using `int`s and `float`s with `if` and `else` - we can use any function or expression that evaluates to a __boolean__, that is `True` or `False`.\n",
    "\n",
    "> **Note**: The `Python` programming language allows the comparison of `str` in a very simple way. In many other programming languages special built-in functions have to be used for this purpose."
   ]
  },
  {
   "cell_type": "code",
   "execution_count": 6,
   "metadata": {},
   "outputs": [
    {
     "name": "stdout",
     "output_type": "stream",
     "text": [
      "11\n"
     ]
    }
   ],
   "source": [
    "x = 10\n",
    "command = 'increment'\n",
    "if command =='increment' and x < 100:\n",
    "    x = x + 1\n",
    "print (x)"
   ]
  },
  {
   "cell_type": "code",
   "execution_count": 7,
   "metadata": {},
   "outputs": [
    {
     "name": "stdout",
     "output_type": "stream",
     "text": [
      "10\n"
     ]
    }
   ],
   "source": [
    "x = 10\n",
    "command = 'nothing'\n",
    "if command == 'increment':\n",
    "    x = x + 1\n",
    "print (x)"
   ]
  },
  {
   "cell_type": "code",
   "execution_count": 8,
   "metadata": {},
   "outputs": [],
   "source": [
    "x = 10\n",
    "command = 'nothing'\n",
    "if command in ['increment', 'increase']:\n",
    "    x = x + 1\n",
    "    print (x)"
   ]
  },
  {
   "cell_type": "markdown",
   "metadata": {},
   "source": [
    "> **Reminder**: Within `Python` tabs/whitespaces as indentation (from the beginning of the line) are very important! </br> \n",
    "Python does not put blocks in brackets (as Java or C-like languages do with curly braces { ... }). Instead a block is indented (usually by 4 spaces). The end of the block is defined by un-indentation! "
   ]
  },
  {
   "cell_type": "code",
   "execution_count": 9,
   "metadata": {},
   "outputs": [
    {
     "name": "stdout",
     "output_type": "stream",
     "text": [
      "This is executed anyways!\n"
     ]
    }
   ],
   "source": [
    "x = 10\n",
    "if x > 20:\n",
    "    print (\"This is a big number\")\n",
    "print (\"This is executed anyways!\")"
   ]
  },
  {
   "cell_type": "code",
   "execution_count": 10,
   "metadata": {},
   "outputs": [],
   "source": [
    "x = 10\n",
    "if x > 20:\n",
    "    print (\"This is a big number\")\n",
    "    print (\"This is executed conditionally\")"
   ]
  },
  {
   "cell_type": "markdown",
   "metadata": {},
   "source": [
    "There must always be a code block after if/else. If you want to leave it empty, you can use the `pass`statement. It does (literally) nothing, but prevents a syntactic error. <br>\n",
    "Therefore, the next code cell will produce an error and the second next not."
   ]
  },
  {
   "cell_type": "code",
   "execution_count": 11,
   "metadata": {},
   "outputs": [
    {
     "name": "stdout",
     "output_type": "stream",
     "text": [
      "Here our code continues anyways...\n"
     ]
    }
   ],
   "source": [
    "x = 20\n",
    "if x > 10:\n",
    "    # We will implement this later\n",
    "    pass\n",
    "else:\n",
    "    print( \"we don't come by here.\")\n",
    "print (\"Here our code continues anyways...\")"
   ]
  },
  {
   "cell_type": "markdown",
   "metadata": {},
   "source": [
    "**Error Message** `IndentationError: expected an indented block`"
   ]
  },
  {
   "cell_type": "code",
   "execution_count": 12,
   "metadata": {},
   "outputs": [
    {
     "ename": "IndentationError",
     "evalue": "expected an indented block after 'if' statement on line 2 (2219333270.py, line 4)",
     "output_type": "error",
     "traceback": [
      "\u001b[1;36m  Cell \u001b[1;32mIn[12], line 4\u001b[1;36m\u001b[0m\n\u001b[1;33m    else:\u001b[0m\n\u001b[1;37m    ^\u001b[0m\n\u001b[1;31mIndentationError\u001b[0m\u001b[1;31m:\u001b[0m expected an indented block after 'if' statement on line 2\n"
     ]
    }
   ],
   "source": [
    "x = 20\n",
    "if x > 10:\n",
    "    # Here a code block must follow, otherwise an error message will be raised\n",
    "else:\n",
    "    print( \"we don't come by here.\")\n",
    "print (\"Here our code continues anyways...\")"
   ]
  },
  {
   "cell_type": "markdown",
   "metadata": {},
   "source": [
    "---\n",
    "<a id=\"match\"></a>\n",
    "## [`match-case`-statement](#top)\n",
    "\n",
    "The `match-case`-statement is a powerfull way to check whether the result of a given expression matches a specific pattern. It is available since Python 3.10, so if you are using your local installation, you have to make sure that you have the right Python version. To install Python 3.10 with Anaconda, execute the following commands in the conda-prompt to create a new environment with the correct Python version (it will install many packages. This will take about 10 minutes):\n",
    "\n",
    "```bash\n",
    "conda create -n py310 python=3.10 anaconda\n",
    "conda activate py310\n",
    "```"
   ]
  },
  {
   "cell_type": "markdown",
   "metadata": {},
   "source": [
    "Now let's have a look at the `match-case`-statement. The general syntax looks like this:\n",
    "\n",
    "```python\n",
    "match <Expression>:\n",
    "    case <pattern 1> [<if guard>]:\n",
    "        <block to execute if pattern 1 matches>\n",
    "        \n",
    "    case <pattern 2> [<if guard>]:\n",
    "        <block to execute if pattern 2 matches>\n",
    "       \n",
    "    ...\n",
    "    \n",
    "    case <pattern n> [<if guard>]:\n",
    "        <block to execute if pattern n matches>\n",
    "        \n",
    "    case _:  # wildcard pattern matching all other cases\n",
    "        <block to execute if no pattern matches>\n",
    "```"
   ]
  },
  {
   "cell_type": "markdown",
   "metadata": {},
   "source": [
    "The match-statement evaluates the expression after the `match`-keyword which produces a value called the **subject**. This subject is then matched against the patterns of each case (after the `case`-keyword). The case-block corresponding to the first matching pattern is executed, all subsequent case statements are ignored. (We will see below how exactly subjects are matched to a pattern.) The guards after the patterns are optional if-conditions, which are evaluated after a pattern matches the subject. Only if this guard also evaluates to `True`, the corresponding block will be executed.\n",
    "\n",
    "If you are familiar with a switch-case-statement from other languages you will recognize the similarities. But the purpose of the `match-case`-statement is not efficiency like in other languages. It's main advantage is that it comes with a very powerful pattern-matching mechanism, which makes it easy to create complex, but readable cases. Let’s have a closer look at how the `match-case` works."
   ]
  },
  {
   "cell_type": "markdown",
   "metadata": {},
   "source": [
    "### Patterns"
   ]
  },
  {
   "cell_type": "markdown",
   "metadata": {},
   "source": [
    "A pattern specifies a structural constraint, that the subject needs to fulfill. It can restrict the subject to a single literal value, or define a more complex, compound structure. Especially the compound ones make the `match-case`-statement useful. The subject matches only against one pattern (the first one found from the top), even if a later pattern would also match the specification.\n",
    "\n",
    "To demonstrate different types of patterns, we need some code elements, which can be used as a subject to match against different patterns. We will be using the following dictionaries, which represent pets:"
   ]
  },
  {
   "cell_type": "code",
   "execution_count": null,
   "metadata": {},
   "outputs": [],
   "source": [
    "pet1 = {\"type\":\"dog\",\n",
    "        \"name\":\"rupert\",\n",
    "        \"age\":3,\n",
    "        \"toys\":[\"ball\", \"rope\"],\n",
    "        \"owner\":\"Katja\"}\n",
    "\n",
    "pet2 = {\"type\":\"dog\",\n",
    "        \"name\":\"bubbles\",\n",
    "        \"age\":\"2\",\n",
    "        \"toys\":[\"bone\", \"teddy\"]}\n",
    "\n",
    "pet3 = {\"type\":\"cat\",\n",
    "        \"name\":\"humphrey\",\n",
    "        \"age\":2,\n",
    "        \"toys\":[\"rope\", \"ball\", \"wool ball\"],\n",
    "        \"owner\":\"Sergej\"}\n",
    "\n",
    "pet4 = {\"type\":\"reptile\",\n",
    "        \"name\":\"sven\",\n",
    "        \"age\":1,\n",
    "        \"toys\":[\"rope\"]}"
   ]
  },
  {
   "cell_type": "markdown",
   "metadata": {},
   "source": [
    "#### Literal Patterns\n",
    "\n",
    "Literal patterns are constants that only match exact values. We could use them to check the type of a given pet. Try to set the variable `pet` to the different pets we have defined above and check the output of the following code: "
   ]
  },
  {
   "cell_type": "code",
   "execution_count": null,
   "metadata": {},
   "outputs": [],
   "source": [
    "pet = pet1\n",
    "print( pet )\n",
    "print('-'*20)\n",
    "\n",
    "if pet[\"type\"] == \"dog\": \n",
    "    print(f'{pet[\"name\"]} is a dog')\n",
    "if pet[\"type\"] == \"cat\": \n",
    "    print(f'{pet[\"name\"]} is a cat')\n",
    "print(f'... playing with {pet[\"toys\"]}')"
   ]
  },
  {
   "cell_type": "code",
   "execution_count": null,
   "metadata": {},
   "outputs": [],
   "source": [
    "# the same with the match-case statement\n",
    "pet = pet4\n",
    "print( pet )\n",
    "print('-'*20)\n",
    "\n",
    "match pet[\"type\"]:\n",
    "   case \"dog\":\n",
    "       print(f'{pet[\"name\"]} is a dog')\n",
    "   case \"cat\":\n",
    "       print(f'{pet[\"name\"]} is a cat')\n",
    "print(f'... playing with {pet[\"toys\"]}')"
   ]
  },
  {
   "cell_type": "markdown",
   "metadata": {},
   "source": [
    "#### Wildcard Patterns\n",
    "\n",
    "The wildcard pattern, denoted by `_`,  matches any structure of the subject. It is often used as a fallback case, if no other pattern matches: "
   ]
  },
  {
   "cell_type": "code",
   "execution_count": null,
   "metadata": {},
   "outputs": [],
   "source": [
    "pet = pet4\n",
    "print( pet )\n",
    "print('-'*20)\n",
    "\n",
    "match pet[\"type\"]:\n",
    "    case \"dog\":\n",
    "        print(f'{pet[\"name\"]} is a dog')\n",
    "    case \"cat\":\n",
    "        print(f'{pet[\"name\"]} is a cat')\n",
    "    case _:\n",
    "        print(\"This animal is unknown in our pattern matching\")"
   ]
  },
  {
   "cell_type": "markdown",
   "metadata": {},
   "source": [
    "It always must be the last pattern specified, because it matches against any subject, so all other cases can't be matched:"
   ]
  },
  {
   "cell_type": "code",
   "execution_count": null,
   "metadata": {},
   "outputs": [],
   "source": [
    "pet = pet4\n",
    "print( pet )\n",
    "print('-'*20)\n",
    "\n",
    "match pet[\"type\"]:\n",
    "    case _:\n",
    "        print(\"This animal is unknown in our pattern matching\")\n",
    "    case \"dog\":\n",
    "        print(f'{pet[\"name\"]} is a dog')\n",
    "    case \"cat\":\n",
    "        print(f'{pet[\"name\"]} is a cat')"
   ]
  },
  {
   "cell_type": "markdown",
   "metadata": {},
   "source": [
    "#### Sequence Patterns\n",
    "\n",
    "Sequence patterns match to a sequence of items like a list or a tuple. For this you use comma separated sub-patterns, which may be enclosed within `[...]` or `(...)`. Each sub-pattern is matched against an element of the sequence while the whole pattern restricts the size and shape of the sequence. Thus, the pattern must exactly match the sequence of the target. It does not distinguish between list- and tuple-notation and it also allows for the unpacking syntax, i.e. `[1,2,3]` is equivalent to `(1,2,3)` and to `1,2,3`. Because this pattern contains (arbitrarily complex) sub-patterns we call it a _composed pattern_. Again, try to change the variable `pet` and predict the result. Specifically observe the result of `pet1`and `pet3`:"
   ]
  },
  {
   "cell_type": "code",
   "execution_count": null,
   "metadata": {},
   "outputs": [],
   "source": [
    "pet = pet4\n",
    "print( pet )\n",
    "print('-'*20)\n",
    "\n",
    "match pet[\"toys\"]:\n",
    "    case \"ball\",\"rope\":       # can also be written as [\"ball\",\"rope\"] or (\"ball\",\"rope\") \n",
    "        print(\"The pet plays with a ball AND a rope.\") \n",
    "    case \"bone\",\"teddy\":     # can also be written as [\"bone\",\"teddy\"] or (\"bone\",\"teddy\") \n",
    "        print(\"The pet plays with a bone AND a teddy.\")\n",
    "    case [\"rope\"]:           # must be written as one-item-list! A structure is expected!\n",
    "        print(\"The pet plays with a rope.\")         \n",
    "    case _:\n",
    "        print(\"The pet plays with an unkown combination of toys.\")"
   ]
  },
  {
   "cell_type": "markdown",
   "metadata": {},
   "source": [
    "As you can see, even though `pet1` and `pet3` play with the same set of toys, `pet1` matches case 1 and `pet3` matches the fallback case. This is because we are restricting the seqeunce to the exact sequence we give in the pattern. If we want to make the pattern more general and restrict only one element, but leave the other items and the sequence size variable, we can use the `*`-character. This is only allowed **once** per pattern:"
   ]
  },
  {
   "cell_type": "code",
   "execution_count": null,
   "metadata": {},
   "outputs": [],
   "source": [
    "pet = pet4\n",
    "print( pet )\n",
    "print('-'*20)\n",
    "\n",
    "match pet[\"toys\"]:\n",
    "    case \"ball\",*_:             # can also be written as [\"ball\",*_] or (\"ball\",*_) \n",
    "        print(\"The first toy is a ball, there may be more.\") \n",
    "    case \"bone\",*_:             # can also be written as [\"bone\",*_] or (\"bone\",*_) \n",
    "        print(\"The first toy is a bone, there may be more.\")\n",
    "    case \"rope\",*_:             # can also be written as [\"bone\",*_] or (\"bone\",*_) \n",
    "        print(\"The first toy is a rope, there may be more.\")\n",
    "    case _:\n",
    "        print(\"The pet plays with an unkown first toy, or with no toys.\")"
   ]
  },
  {
   "cell_type": "markdown",
   "metadata": {
    "tags": []
   },
   "source": [
    "#### Capture Patterns\n",
    "\n",
    "The sequence patterns are still limited, because they match against a specific sequence of literals. The capture pattern allows for more general patterns, which bind values to positional variables. "
   ]
  },
  {
   "cell_type": "code",
   "execution_count": null,
   "metadata": {},
   "outputs": [],
   "source": [
    "pet = pet4\n",
    "print( pet )\n",
    "print('-'*20)\n",
    "\n",
    "match pet[\"toys\"]:\n",
    "    # We now bound the first element in the toy-list to the variable \"first\" (and the second to the varaible \"second\").\n",
    "    # With this, the pattern only restricts the amount of elements the seqeunce should have, but not the elements themselves:\n",
    "    case [one]:\n",
    "        print(\"The pet plays only with one toy:\", one)\n",
    "    case first, second:    \n",
    "        print(\"The pet plays with two toys:\")\n",
    "        print(\"   1.\", first)\n",
    "        print(\"   2.\", second)\n",
    "    case first, second, third:                    \n",
    "        print(\"The pet plays with three toys:\")\n",
    "        print(\"   1.\", first)\n",
    "        print(\"   2.\", second)\n",
    "        print(\"   3.\", third)\n",
    "    case _:\n",
    "        print(\"The pet plays with less or more than three toys.\")"
   ]
  },
  {
   "cell_type": "markdown",
   "metadata": {},
   "source": [
    "#### AS Patterns\n",
    "\n",
    "An AS pattern matches the pattern on the left of the `as`-keyword against the subject. If this fails, the AS pattern fails. Otherwise, the AS pattern binds the subject to the name on the right of the `as`-keyword and succeeds. As an example, we could check wether the age of a pet is stored as an integer or as a string. This can be done by matching against `int()` and `str()`. If this succeeds, we want to bind this age to a variable, such that we can use it in the code block:"
   ]
  },
  {
   "cell_type": "code",
   "execution_count": null,
   "metadata": {},
   "outputs": [],
   "source": [
    "pet = pet1\n",
    "print( pet )\n",
    "print('-'*20)\n",
    "\n",
    "match pet[\"age\"]:\n",
    "    case int() as age:             \n",
    "        print(\"The age is stored as an integer with the value:\", age)\n",
    "    case str() as age:                    \n",
    "        print(\"The age is stored as a string with the value:\", age)\n",
    "    case _:\n",
    "        print(\"The age is stored in an unknown format\")"
   ]
  },
  {
   "cell_type": "markdown",
   "metadata": {},
   "source": [
    "#### OR Patterns\n",
    "\n",
    "Another way to create composed patterns is the OR pattern. Two or more patterns are separated by vertical bars `|`. If any of an OR pattern’s sub-pattern matches the subject, the entire OR pattern succeeds. Moreover each sub-pattern must bind the same set of names, so that a name in a code block is never undefined:"
   ]
  },
  {
   "cell_type": "code",
   "execution_count": null,
   "metadata": {},
   "outputs": [],
   "source": [
    "pet = pet1\n",
    "print( pet )\n",
    "print('-'*20)\n",
    "\n",
    "match int(pet[\"age\"]):\n",
    "    case 3 | 1:             \n",
    "        print(\"The pet is 1 or 3 years old \")\n",
    "    case _:\n",
    "        print(\"The pet is neither 1 nor 3 years old \")"
   ]
  },
  {
   "cell_type": "markdown",
   "metadata": {},
   "source": [
    "#### Mapping Patterns\n",
    "\n",
    "With mapping patterns we can restrict the shape of a mapping element like a dictionary. It uses the following syntax:\n",
    "\n",
    "{key1: pattern1, key2: pattern2, ...}\n",
    "\n",
    "A subject matches this pattern, if the following holds:\n",
    "1. It is a mapping/dictionary\n",
    "2. It has at least the set of provided keys \n",
    "3. All the sub-patterns match their corresponding values\n",
    "\n",
    "We could restrict our pet-dictionaries in a way, that it has to have the key \"owner\":"
   ]
  },
  {
   "cell_type": "code",
   "execution_count": null,
   "metadata": {},
   "outputs": [],
   "source": [
    "pet = pet3\n",
    "print( pet )\n",
    "print('-'*20)\n",
    "\n",
    "match pet:\n",
    "    case {\"owner\":\"Katja\"}:             \n",
    "        print(\"The owner is Katja.\")\n",
    "    case {\"owner\":owner}:\n",
    "        print(f\"The owner is not Katja, but {owner}\")\n",
    "    case _:\n",
    "        print(\"No owner known.\")"
   ]
  },
  {
   "cell_type": "markdown",
   "metadata": {},
   "source": [
    "In the first case the sub-pattern for the key `\"owner\"` is the literal pattern `\"Katja\"`. In the second case the sup-pattern is a capture pattern."
   ]
  },
  {
   "cell_type": "markdown",
   "metadata": {},
   "source": [
    "With the `**`-syntax we can bind the rest of the dictionary to a variable:"
   ]
  },
  {
   "cell_type": "code",
   "execution_count": null,
   "metadata": {},
   "outputs": [],
   "source": [
    "pet = pet3\n",
    "print( pet )\n",
    "print('-'*20)\n",
    "\n",
    "match pet:\n",
    "    case {\"owner\":owner,**rest}:             \n",
    "        print(\"The owner is:\", owner)\n",
    "        print(\"Besides, the pet has the following properties:\")\n",
    "        print(rest)\n",
    "    case {\"toys\":toys,**rest}:             \n",
    "        print(\"The toys are:\", toys)\n",
    "        print(\"Besides, the pet has the following properties:\")\n",
    "        print(rest)\n",
    "    case {**rest}:\n",
    "        print(\"There is no known owner of the pet\")\n",
    "        print(\"Besides, the pet has the following properties:\")\n",
    "        print(rest)"
   ]
  },
  {
   "cell_type": "markdown",
   "metadata": {},
   "source": [
    "### Guards\n",
    "\n",
    "A pattern can be extended by a guard (an additional if-clause) as we have seen in the beginning. With this we can restrict the shape of the subject in a more complex way. For example we could create a case, where the pet should be at the age of 2 (as string or integer), but the dictionary should not contain the \"owner\"-key:"
   ]
  },
  {
   "cell_type": "code",
   "execution_count": null,
   "metadata": {},
   "outputs": [],
   "source": [
    "pet = pet2\n",
    "print( pet )\n",
    "print('-'*20)\n",
    "\n",
    "match pet:\n",
    "    case {\"age\":2,**rest} | {\"age\":\"2\",**rest} if not(\"owner\" in rest.keys()):             \n",
    "        print(\"The pet is 2 and does not have an owner\")\n",
    "        print(\"its properties are\", rest )\n",
    "    case _:\n",
    "        print(\"The pet is not 2 or does have an owner\")"
   ]
  },
  {
   "cell_type": "markdown",
   "metadata": {},
   "source": [
    "### Conclusion on `match-case`\n",
    "\n",
    "With the `match-case`-statement we are able execute complex structural pattern matching. With this it is not only possible to check wether a subject has a specific value, but with the combination of different nested patterns we can check if a complex code-element has a specific shape/structure."
   ]
  },
  {
   "cell_type": "markdown",
   "metadata": {},
   "source": [
    "<div class=\"learnmore\"><b>Read more:</b> If you are interested in more details about structural pattern matching and more available patterns, we recommend reading the <a href=\"https://peps.python.org/pep-0634/\">specifications</a>. <br>\n",
    "There you can find the the correct syntax of all the patterns and how they work together.</div>"
   ]
  },
  {
   "cell_type": "markdown",
   "metadata": {},
   "source": [
    "---\n",
    "<a id=\"forloop\"></a>\n",
    "## [`for`-Loop](#top)\n",
    "\n",
    "In the [previous module](02_DataStructures.ipynb) we introduced Python's built-in data structures and used a first example of a loop to iterate through the key-value pairs of a `dict`. But this is not the only purpose of loops.\n",
    "\n",
    "In general, loops allow us to execute code multiple times. The values of the variables within the loop body, and thus the actual execution can be different in each iteration. \n",
    "\n",
    "There are two kind of loops: the `for` and `while` loop. The first is handy to iterate over all elements of a data structure like `list`s, `tuple`s, `str`s, or `dict`s., the second is handy for executing some code repeatedly as long as some condition holds. "
   ]
  },
  {
   "cell_type": "code",
   "execution_count": null,
   "metadata": {},
   "outputs": [],
   "source": [
    "first_names = ['John', 'Paul', 'George', 'Ringo']\n",
    "for name in first_names:\n",
    "    print(f\"Hello {name}!\")"
   ]
  },
  {
   "cell_type": "markdown",
   "metadata": {},
   "source": [
    "> **Reminder**: See [Built-in functions on Data Structures](02_DataStructures.ipynb#functionsSet) for operation *in*."
   ]
  },
  {
   "cell_type": "markdown",
   "metadata": {},
   "source": [
    "This generic `for` loop iterates *over all items* of a container. This prevents counting and out-of-bounds errors we are used to from many other programming languages.\n",
    "\n",
    " A built-in function you will often see used in `for` loops is `range( )`, which returns an iterator of a sequence of integers specified by the given range. This is equivalent to using a for-counting-loop and thus, you can also use a counter for each of the items, if you need it:\n",
    "\n",
    "<center><b>range(start, stop, step)</b></center>\n",
    "\n",
    "| Parameter | Description | Occurence |\n",
    "|----|----|----\n",
    "| **`start`**| An integer number specifying at which position to start. Default is 0 | Optional\n",
    "| **`stop`**| An integer number specifying at which position to stop (not included).  | Required\n",
    "| **`step`**| An integer number specifying the incrementation. Default is 1  | Optional"
   ]
  },
  {
   "cell_type": "code",
   "execution_count": null,
   "metadata": {},
   "outputs": [],
   "source": [
    "for i in range(2, 10):\n",
    "    print (i)"
   ]
  },
  {
   "cell_type": "code",
   "execution_count": null,
   "metadata": {},
   "outputs": [],
   "source": [
    "# the example above is the same as ...\n",
    "for i in [2, 3, 4, 5, 6, 7, 8, 9]:\n",
    "    print(i)"
   ]
  },
  {
   "cell_type": "markdown",
   "metadata": {},
   "source": [
    "Here, using `i` as the counter of the iteration is another **naming convention**. If you want to nest for loops, you go on in the alphabet. Meaning the next loop counter would be `j`, then `k`, ..."
   ]
  },
  {
   "cell_type": "code",
   "execution_count": null,
   "metadata": {},
   "outputs": [],
   "source": [
    "for i in [1,2,3]:\n",
    "    for j in range(1,5):\n",
    "        print('outer loop counter:', i, 'inner loop counter:', j)"
   ]
  },
  {
   "cell_type": "markdown",
   "metadata": {},
   "source": [
    "Iterables start with index `0`. The range class thus can omit the starting index, which is then taken as `0`:"
   ]
  },
  {
   "cell_type": "code",
   "execution_count": null,
   "metadata": {},
   "outputs": [],
   "source": [
    "for i in range(5): \n",
    "    print(i)"
   ]
  },
  {
   "cell_type": "markdown",
   "metadata": {},
   "source": [
    "As with counting-for loops, the `range( )` class can specify a positive or negativ stepwidth:"
   ]
  },
  {
   "cell_type": "code",
   "execution_count": null,
   "metadata": {},
   "outputs": [],
   "source": [
    "for i in range(10, -11, -2):   # range( from, to, step )\n",
    "    print(i)"
   ]
  },
  {
   "cell_type": "markdown",
   "metadata": {},
   "source": [
    "There are also other ways to iterate over an object with the for loop. <br>\n",
    "The `enumerate( )` [built-in function](https://docs.python.org/3/library/functions.html#enumerate) allows you to iterate over a list and use an index:"
   ]
  },
  {
   "cell_type": "code",
   "execution_count": null,
   "metadata": {},
   "outputs": [],
   "source": [
    "for index, name in enumerate(first_names):\n",
    "    print(f\"Name {index}: {name}\")  # using format strings"
   ]
  },
  {
   "cell_type": "markdown",
   "metadata": {},
   "source": [
    "> **Note:** In combination with the `for` loop, the first argument always corresponds to the index/counter and the second argument to the object content.\n",
    "\n",
    "**Error Message** `IndexError: list index out of range`"
   ]
  },
  {
   "cell_type": "code",
   "execution_count": null,
   "metadata": {},
   "outputs": [],
   "source": [
    "for index, name in enumerate(first_names):\n",
    "    print (f\"Current element: {first_names[index]}\")\n",
    "    print (f\"Next element: {first_names[index+1]}\")"
   ]
  },
  {
   "cell_type": "markdown",
   "metadata": {},
   "source": [
    "> **Note:** One of the typical errors when using loops is `IndexError`. This means that you want to access an element of a list within the loop via indexing, which does not exist at all. <br> <br>\n",
    "This type of error is one of the most common problems in all kind of computer programs! It is hence considered good style to avoid explicitely handling indices whenever possible. Often iterating over collections using constructs such as `for item in my_list` will accomplish what you need."
   ]
  },
  {
   "cell_type": "markdown",
   "metadata": {},
   "source": [
    "We cannot only loop over lists, but over any `iterable`. For example strings:"
   ]
  },
  {
   "cell_type": "code",
   "execution_count": null,
   "metadata": {},
   "outputs": [],
   "source": [
    "x = \"example\"\n",
    "for letter in x:\n",
    "    print( letter )"
   ]
  },
  {
   "cell_type": "markdown",
   "metadata": {},
   "source": [
    "But with loops, we can do more than just read data strucutes. We can also create some.\n",
    "\n",
    "After creating an empty dictionary we add for each name in the `first_names` list the name as a key for the number of letters in the name to the `dict`."
   ]
  },
  {
   "cell_type": "code",
   "execution_count": null,
   "metadata": {},
   "outputs": [],
   "source": [
    "# As a simple example, lets create a dictionary, which maps each string in a list to its length:\n",
    "name_lengths = {}\n",
    "for name in first_names:\n",
    "    name_lengths[name] = len(name)\n",
    "name_lengths"
   ]
  },
  {
   "cell_type": "markdown",
   "metadata": {},
   "source": [
    "We can also loop over the contents of a `dictionary` using the `items()` function:"
   ]
  },
  {
   "cell_type": "code",
   "execution_count": null,
   "metadata": {},
   "outputs": [],
   "source": [
    "for name, length in name_lengths.items( ):\n",
    "    print(f'{name} -> {length}')"
   ]
  },
  {
   "cell_type": "markdown",
   "metadata": {},
   "source": [
    "> **Note:** If the `items` function is combined with a `for` loop, the first argument always corresponds to key of the dictionary and the second argument to the corresponding value."
   ]
  },
  {
   "cell_type": "markdown",
   "metadata": {},
   "source": [
    "<a name=\"control_statements\"></a>\n",
    "### [Loop Control Statements](#top)\n",
    "Within loops, you can also use further specific control statements at certain points. This makes it possible to end the loop prematurely or to skip an element:\n",
    "\n",
    "| Operation | Description | \n",
    "|----|--\n",
    "| **`break`**| Exit loop when an external condition is triggered. \n",
    "| **`continue`** | Skip part of a loop in which an external condition is triggered."
   ]
  },
  {
   "attachments": {
    "119ed1fc-b065-4290-bb0b-2f1d4f36f7af.png": {
     "image/png": "[encoded data removed]"
    }
   },
   "cell_type": "markdown",
   "metadata": {},
   "source": [
    "![Break-Continue.png](attachment:119ed1fc-b065-4290-bb0b-2f1d4f36f7af.png)"
   ]
  },
  {
   "cell_type": "code",
   "execution_count": null,
   "metadata": {},
   "outputs": [],
   "source": [
    "for index, name in enumerate(first_names):\n",
    "    print(f\"Name {index}: {name}\")"
   ]
  },
  {
   "cell_type": "code",
   "execution_count": null,
   "metadata": {},
   "outputs": [],
   "source": [
    "for index, name in enumerate(first_names):\n",
    "    if name == \"George\":\n",
    "        break       # stop before George is handled\n",
    "    print(f\"Name {index}: {name}\")"
   ]
  },
  {
   "cell_type": "code",
   "execution_count": null,
   "metadata": {},
   "outputs": [],
   "source": [
    "for index, name in enumerate (first_names):\n",
    "    if name == \"George\":\n",
    "        continue    # skip George\n",
    "    print(f\"Name {index}: {name}\")"
   ]
  },
  {
   "cell_type": "markdown",
   "metadata": {},
   "source": [
    "---\n",
    "<a id=\"while_loops\"></a>\n",
    "## [`while`-loops](#top)\n",
    "`While` (__conditional__) loops are an alternative to a `for` (__counting__) loop. The statements within the loop are executed, as long as the specified condition holds. "
   ]
  },
  {
   "cell_type": "code",
   "execution_count": null,
   "metadata": {},
   "outputs": [],
   "source": [
    "x = 1\n",
    "while x > 0 and x < 500:\n",
    "    x *= 2\n",
    "    print(x)"
   ]
  },
  {
   "cell_type": "markdown",
   "metadata": {},
   "source": [
    "You can use `break` just like in `for` loops, some `while` loops entirely rely on that!"
   ]
  },
  {
   "cell_type": "code",
   "execution_count": null,
   "metadata": {},
   "outputs": [],
   "source": [
    "x = 1\n",
    "while True:\n",
    "    if x > 100:\n",
    "        break\n",
    "    x *= 2\n",
    "    print(x)"
   ]
  },
  {
   "cell_type": "markdown",
   "metadata": {},
   "source": [
    ">**Note**: The `while` loops runs as long as its condition evaluates to `True`. With `True` as the condition, the `while` loop is called _endless loop_ as it needs another condition within the loop and the use of `break` or an external interaction (stopping the Python interpreter with the <i class=\"fa-stop fa\"></i> icon) to end the loop.\n",
    "\n",
    "You can also `continue` a while loop without completing the rest of the code in the body of the loop, similar to a `for` loop."
   ]
  },
  {
   "cell_type": "code",
   "execution_count": null,
   "metadata": {},
   "outputs": [],
   "source": [
    "x = 1\n",
    "while True:\n",
    "    if x > 100:\n",
    "        break\n",
    "    x *= 2\n",
    "    if x == 16:\n",
    "        continue # do not print 16\n",
    "    print(x)"
   ]
  },
  {
   "cell_type": "code",
   "execution_count": null,
   "metadata": {},
   "outputs": [],
   "source": [
    "a, b = 0, 1 # short version of two assignments\n",
    "while a < 1000:\n",
    "    print(a, end=', ') # print delimiter after the element\n",
    "    a, b = b, a+b # short version has the advantage that right side is evaluated before both assignements => no tmp\n",
    "print(a)"
   ]
  },
  {
   "cell_type": "markdown",
   "metadata": {},
   "source": [
    "The same loop to compute the Fibonacci numbers in most other languages (Java, ...)"
   ]
  },
  {
   "cell_type": "code",
   "execution_count": null,
   "metadata": {},
   "outputs": [],
   "source": [
    "a = 0 \n",
    "b = 1\n",
    "while a < 1000:\n",
    "    print(a, end=', ')\n",
    "    tmp = a # we need to temporarily store the value of a\n",
    "    a = b\n",
    "    b = tmp + b # now we still can use the 'old' value of a\n",
    "print(a)"
   ]
  },
  {
   "cell_type": "markdown",
   "metadata": {},
   "source": [
    "As an alternative (typical Pythonian) you can create a list of the Fibonacchi numbers:"
   ]
  },
  {
   "cell_type": "code",
   "execution_count": null,
   "metadata": {},
   "outputs": [],
   "source": [
    "fibos = [0, 1]\n",
    "while fibos[-1] < 1000: \n",
    "    fibos.append(fibos[-1]+fibos[-2]) # append the sum of the last two elements\n",
    "print(fibos)"
   ]
  },
  {
   "cell_type": "markdown",
   "metadata": {},
   "source": [
    "> **Reminder:** [Reverse indexing of lists](02_DataStructures.ipynb#reverseIndexingList)"
   ]
  },
  {
   "cell_type": "markdown",
   "metadata": {},
   "source": [
    "---\n",
    "<a name=\"coffee_example03\"></a>\n",
    "## [Coffee Example](#top)\n",
    "With this knowledge of control structures, we can advance the computation of the price for a coffee from the first module again. "
   ]
  },
  {
   "cell_type": "code",
   "execution_count": null,
   "metadata": {},
   "outputs": [],
   "source": [
    "price_coffee = 1.20\n",
    "price_milk = 0.30\n",
    "price_sugar = 0.10\n",
    "\n",
    "print('Configure your coffee:')\n",
    "want_milk = bool(int(input('Do you want milk (1 = Yes, 0 = No): ')))\n",
    "want_sugar = bool(int(input('Do you want sugar (1 = Yes, 0 = No): ')))\n",
    "\n",
    "to_pay = price_coffee + int(want_milk) * price_milk + int(want_sugar) * price_sugar\n",
    "print(f'One coffee costs € {to_pay:4.2f}')"
   ]
  },
  {
   "cell_type": "markdown",
   "metadata": {},
   "source": [
    "We want to improve the input of _Yes_ and _No_. Using numbers and the type conversion to `int` and `bool` leads to wanting milk or sugar if anything else but 0 is entered. Now we want to actually test for the input _Yes_:"
   ]
  },
  {
   "cell_type": "code",
   "execution_count": null,
   "metadata": {},
   "outputs": [],
   "source": [
    "price_coffee = 1.20\n",
    "price_milk = 0.30\n",
    "price_sugar = 0.10\n",
    "\n",
    "print('Configure your coffee:')\n",
    "# Remove type conversions and input hints\n",
    "want_milk = input('Do you want milk: ')\n",
    "want_sugar = input('Do you want sugar: ')\n",
    "\n",
    "# Check if the input was 'Yes'\n",
    "if want_milk == 'Yes':\n",
    "    want_milk = True\n",
    "else:\n",
    "    want_milk = False\n",
    "\n",
    "# Or even shorter:\n",
    "want_sugar = want_sugar == 'Yes'\n",
    "\n",
    "to_pay = price_coffee + int(want_milk) * price_milk + int(want_sugar) * price_sugar\n",
    "print(f'One coffee costs € {to_pay:4.2f}')"
   ]
  },
  {
   "cell_type": "markdown",
   "metadata": {},
   "source": [
    "Because of the dynamic typing of `Python`, we can store the result of the user input evaluation in the same variable.\n",
    "This works fine. But what if the user writes _yes_ or _YES_ instead of _Yes_? \n",
    "We have to find a way to ignore upper cases. \n",
    "To do this, we use the `lower` function:"
   ]
  },
  {
   "cell_type": "code",
   "execution_count": null,
   "metadata": {},
   "outputs": [],
   "source": [
    "price_coffee = 1.20\n",
    "price_milk = 0.30\n",
    "price_sugar = 0.10\n",
    "\n",
    "print('Configure your coffee:')\n",
    "want_milk = input('Do you want milk: ')\n",
    "want_sugar = input('Do you want sugar: ')\n",
    "\n",
    "# Check if the input in lower cases was 'yes'\n",
    "want_milk = want_milk.lower() == 'yes'\n",
    "want_sugar = want_sugar.lower() == 'yes'\n",
    "\n",
    "to_pay = price_coffee + int(want_milk) * price_milk + int(want_sugar) * price_sugar\n",
    "print(f'One coffee costs € {to_pay:4.2f}')"
   ]
  },
  {
   "cell_type": "markdown",
   "metadata": {},
   "source": [
    "Execute the code above and test some inputs or prevent to need to re-execute the code everytime by adding a `while` loop (to be finished with the stop button of the Python interpreter):"
   ]
  },
  {
   "cell_type": "code",
   "execution_count": null,
   "metadata": {},
   "outputs": [],
   "source": [
    "price_coffee = 1.20\n",
    "price_milk = 0.30\n",
    "price_sugar = 0.10\n",
    "\n",
    "while True:\n",
    "    print('Configure your coffee:')\n",
    "    want_milk = input('Do you want milk: ')\n",
    "    want_sugar = input('Do you want sugar: ')\n",
    "\n",
    "    # Check if the input in lower cases was 'yes'\n",
    "    want_milk = want_milk.lower() == 'yes'\n",
    "    want_sugar = want_sugar.lower() == 'yes'\n",
    "\n",
    "    to_pay = price_coffee + int(want_milk) * price_milk + int(want_sugar) * price_sugar\n",
    "    print(f'One coffee costs € {to_pay:4.2f}')\n",
    "    # Add a visual separator of the single input and output groups\n",
    "    print('===========================')"
   ]
  },
  {
   "cell_type": "markdown",
   "metadata": {},
   "source": [
    "With the match-case statement we can easily introduce new sorts of coffee and create a more complex case-distinction:"
   ]
  },
  {
   "cell_type": "code",
   "execution_count": null,
   "metadata": {},
   "outputs": [],
   "source": [
    "price_coffee = 1.20\n",
    "price_cappuccino = 1.90\n",
    "price_latte = 1.90\n",
    "price_espresso = 1.75\n",
    "price_milk = 0.30\n",
    "price_sugar = 0.10\n",
    "\n",
    "while True:\n",
    "    print('Configure your coffee:')\n",
    "    coffee_type = input('Which coffee do you want? We have: Cappuccino, Latte Macchiato, Espresso and Coffee\\n')\n",
    "    \n",
    "    match coffee_type.lower():\n",
    "        case \"coffee\":\n",
    "            want_milk = input('Do you want milk: ')\n",
    "            want_sugar = input('Do you want sugar: ')\n",
    "            want_milk = want_milk.lower() == 'yes'\n",
    "            want_sugar = want_sugar.lower() == 'yes'\n",
    "            to_pay = price_coffee + int(want_milk) * price_milk + int(want_sugar) * price_sugar\n",
    "            \n",
    "        case \"espresso\":\n",
    "            want_double = input(\"Do you want a double espresso?: \")\n",
    "            to_pay = price_espresso\n",
    "            if(want_double.lower() == 'yes'):\n",
    "                coffee_type = \"double-espresso\"\n",
    "                to_pay = to_pay + price_espresso\n",
    "            \n",
    "        case \"latte macchiato\":\n",
    "            to_pay = price_latte\n",
    "            \n",
    "        case \"cappuccino\":\n",
    "            to_pay = price_cappuccino\n",
    "            \n",
    "        case \"stop\" | \"none\":\n",
    "            break\n",
    "            \n",
    "        case _:\n",
    "            print(\"Your input could not be processed, perhaps there was a typo. Restart machine...\")\n",
    "            print('===========================')\n",
    "            continue\n",
    "    \n",
    "    print(f'One coffee costs € {to_pay:4.2f}')\n",
    "    # Add a visual separator of the single input and output groups\n",
    "    print('===========================')"
   ]
  },
  {
   "cell_type": "markdown",
   "metadata": {},
   "source": [
    "---\n",
    "# Summary\n",
    "Within this lecture you have been introduced to the different control statements in the python programming language. This includes in particular:\n",
    "* `if` .. `else`: conditional execution of a block of statements\n",
    "* `match-case`: pattern matching\n",
    "* `for` loops without explicitly counting => sequential data structures (`iterables`), \n",
    "* `while` loops for repeating sth as long as some condtion holds\n",
    "* `break`, `continue`: Aborting a loop prematurely or skipping iterations of a loop\n",
    "\n",
    "In the [next lecture](04_Functions.ipynb) you will learn how to program your own functions in Python."
   ]
  }
 ],
 "metadata": {
  "celltoolbar": "Edit Metadata",
  "kernelspec": {
   "display_name": "base",
   "language": "python",
   "name": "python3"
  },
  "language_info": {
   "codemirror_mode": {
    "name": "ipython",
    "version": 3
   },
   "file_extension": ".py",
   "mimetype": "text/x-python",
   "name": "python",
   "nbconvert_exporter": "python",
   "pygments_lexer": "ipython3",
   "version": "3.13.5"
  },
  "nteract": {
   "version": "0.15.0"
  },
  "toc": {
   "colors": {
    "hover_highlight": "#DAA520",
    "navigate_num": "#000000",
    "navigate_text": "#333333",
    "running_highlight": "#FF0000",
    "selected_highlight": "#FFD700",
    "sidebar_border": "#EEEEEE",
    "wrapper_background": "#FFFFFF"
   },
   "moveMenuLeft": true,
   "nav_menu": {
    "height": "336px",
    "width": "252px"
   },
   "navigate_menu": true,
   "number_sections": true,
   "sideBar": true,
   "threshold": 4,
   "toc_cell": false,
   "toc_section_display": "block",
   "toc_window_display": false,
   "widenNotebook": false
  },
  "varInspector": {
   "cols": {
    "lenName": 16,
    "lenType": 16,
    "lenVar": 40
   },
   "kernels_config": {
    "python": {
     "delete_cmd_postfix": "",
     "delete_cmd_prefix": "del ",
     "library": "var_list.py",
     "varRefreshCmd": "print(var_dic_list())"
    },
    "r": {
     "delete_cmd_postfix": ") ",
     "delete_cmd_prefix": "rm(",
     "library": "var_list.r",
     "varRefreshCmd": "cat(var_dic_list()) "
    }
   },
   "types_to_exclude": [
    "module",
    "function",
    "builtin_function_or_method",
    "instance",
    "_Feature"
   ],
   "window_display": false
  }
 },
 "nbformat": 4,
 "nbformat_minor": 4
}
