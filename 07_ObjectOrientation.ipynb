{
 "cells": [
  {
   "cell_type": "markdown",
   "id": "7283453f",
   "metadata": {
    "deletable": false,
    "editable": false
   },
   "source": [
    "---\n",
    "<a name=\"top\"></a>\n",
    "# Object Orientation\n",
    "\n",
    "## Overview \n",
    "* [Classes and Objects](#gettingStarted)\n",
    "* [Inheritance](#inheritance)\n",
    "* [Adding Attributes](#addingAttributes)\n",
    "* [Classes that contain classes](#classesContainingClasses)\n",
    "* [Summary](#summary)\n",
    "\n",
    "Now that you've seen a few very small problems, you might have a very vague idea of how impossibly complicated computer programs can quickly become. In order to build software systems of a meaningful size, we need a mental _framework_ or school of thought that lets us conceptualise _large systems as composites of small units_ with well-defined interactions between them. When thinking about and designing a system in this fashion, we reduce the amount of things we need to hold in our head at one time by mostly only having to consider the properties of one such smaller unit.\n",
    "\n",
    "Historically, the desire to write software systems with so many interacting little parts that they became impossible to work on came out of _simulation_ in the 60's. In order to overcome this engineering challenge, **Kristen Nygaard** and **Ole-Johan Dahl** developed a mental framework, or _paradigm_, we now call **object-oriented programming**, along with a first implementation in their programming language _Simula I_.\n",
    "\n",
    "_Simula_ was highly influential in the language design community and the ideas it introduced inspired the design of the languages that the modern world is built in, such as **C++** and **Java**.\n",
    "\n",
    "_Python_ is not an object-oriented language in that it does not have a particular opinion about how software should be designed. It does however take a few ideas and idioms from object-oriented languages, most notably **classes** and **inheritance**.\n",
    "\n",
    "Instead of trying to give a hand-wavy definition of object-oriented softare design, we'll have a look at those features in _Python_ and will try to get a sense of it that way."
   ]
  },
  {
   "cell_type": "markdown",
   "id": "5d5f4049",
   "metadata": {
    "deletable": false,
    "editable": false
   },
   "source": [
    "---\n",
    "<a  id='gettingStarted'></a>\n",
    "## [A zoo of classes and objects](#top)"
   ]
  },
  {
   "cell_type": "markdown",
   "id": "f9a0f366",
   "metadata": {
    "deletable": false,
    "editable": false
   },
   "source": [
    "Let's work on a (slightly contrived) example for this chapter - a zoo management software. We will model our zoo individual animals using _object orientation_.\n",
    "\n",
    "We can create our own `class` to represent animals like so:"
   ]
  },
  {
   "cell_type": "code",
   "execution_count": null,
   "id": "5e023f69",
   "metadata": {
    "deletable": false,
    "editable": false
   },
   "outputs": [],
   "source": [
    "class Animal:\n",
    "    pass"
   ]
  },
  {
   "cell_type": "markdown",
   "id": "a1d77f7b",
   "metadata": {
    "deletable": false,
    "editable": false
   },
   "source": [
    "What did we just do? We defined a new `type` of object - just like there are `list`s and `int`s and so on there are now `Animal`s.\n",
    "\n",
    "`class`es are defined using:\n",
    "1. the `class` keyword\n",
    "2. a class name of our choosing, which is **capitalized by convention**\n",
    "3. a colon and an indented block for the actual class definition\n",
    "\n",
    "In our very simple case, the class definition block is empty, so we have to write `pass` instead, just as we did previously when we wanted syntactically correct empty blocks.\n",
    "\n",
    "Now that we have told the interpreter that there is such a thing as an `Animal` - how do we get hold of one in our code? Like so:"
   ]
  },
  {
   "cell_type": "code",
   "execution_count": null,
   "id": "81ed01be",
   "metadata": {
    "deletable": false,
    "editable": false
   },
   "outputs": [],
   "source": [
    "my_hamster = Animal()"
   ]
  },
  {
   "cell_type": "markdown",
   "id": "3988d42c",
   "metadata": {
    "deletable": false,
    "editable": false
   },
   "source": [
    "Using a syntax as if we were calling a function that happens to be called like our class, we can create a new object. We can store that object in variables, just like we did with `list`s, `int`s and so on - there is really no difference between built-in and user-defined types!\n",
    "\n",
    "Let's have a look at that hamster:"
   ]
  },
  {
   "cell_type": "code",
   "execution_count": null,
   "id": "7a74c55a",
   "metadata": {
    "deletable": false,
    "editable": false
   },
   "outputs": [],
   "source": [
    "my_hamster"
   ]
  },
  {
   "cell_type": "markdown",
   "id": "56c2cd98",
   "metadata": {
    "deletable": false,
    "editable": false
   },
   "source": [
    "Not much to see here really - just the current namespace (`__main__`), the class name (`Animal`) and a memory address, which refers to the store the newly created object resides in.\n",
    "\n",
    "Let's make our `Animal` class a bit more useful:"
   ]
  },
  {
   "cell_type": "code",
   "execution_count": null,
   "id": "8ad9b6dd",
   "metadata": {
    "deletable": false,
    "editable": false
   },
   "outputs": [],
   "source": [
    "class Animal:\n",
    "\n",
    "    def __init__(self, initial_weight):\n",
    "        self.weight_in_grammes = initial_weight"
   ]
  },
  {
   "cell_type": "markdown",
   "id": "4ceb902e",
   "metadata": {
    "deletable": false,
    "editable": false
   },
   "source": [
    "As you can see, we have defined a function called `__init__` within the class definition block. It takes two arguments, `self` and `initial_weight` and assigns `inital_weight` to some variable `self.initial_weight_in_grammes`.\n",
    "\n",
    "We'll come back to this in a second - let's first have a quick glance at our newly found animal-modelling powers:"
   ]
  },
  {
   "cell_type": "code",
   "execution_count": null,
   "id": "037b614b",
   "metadata": {
    "deletable": false,
    "editable": false
   },
   "outputs": [],
   "source": [
    "baby_hamster = Animal(10)\n",
    "chubby_chomper = Animal(50)\n",
    "\n",
    "print(f\"The baby hamster weighs {baby_hamster.weight_in_grammes} grammes.\")\n",
    "print(f\"Our big hamster weighs {chubby_chomper.weight_in_grammes} grammes.\")"
   ]
  },
  {
   "cell_type": "markdown",
   "id": "42025560",
   "metadata": {
    "deletable": false,
    "editable": false
   },
   "source": [
    "We have defined two `Animal` objects - the `baby_hamster` and the `chubby_chomper` - we were able to pass each one their weight in grammes upon creation and could later access that weight using _dot notation_.\n",
    "\n",
    "The reason this works is the function we defined earlier in the class definition block. Let's get back to that: "
   ]
  },
  {
   "cell_type": "code",
   "execution_count": null,
   "id": "9b0d9a32",
   "metadata": {
    "deletable": false,
    "editable": false
   },
   "outputs": [],
   "source": [
    "class Animal:\n",
    "\n",
    "    def __init__(self, initial_weight):\n",
    "        self.weight_in_grammes = initial_weight"
   ]
  },
  {
   "cell_type": "markdown",
   "id": "604974eb",
   "metadata": {
    "deletable": false,
    "editable": false
   },
   "source": [
    "We call functions that we define within a class definition _methods_. A couple of things are a bit special about _methods_:\n",
    "\n",
    "- they are defined within a class definition\n",
    "- they can be called on objects using dot notation: `object.method()`\n",
    "- their first positional argument by default refers to the object upon which they are called\n",
    "    - this argument is called `self` by convention\n",
    "\n",
    "Some method names are reserved for special roles in Python. They are all enclosed in double underscores (_dunder_ in Python parlance). We happen to have used such a special name for our method: `__init__`.\n",
    "\n",
    "Calling a method `__init__` tells Python to use it as the _initializer_ for new objects of that class. In our case - whenever a new `Animal` is created, the _initializer_ is called and gets passed a reference to a newly created and empty `Animal` object, plus any additional arguments that were passed.\n",
    "\n",
    "What happens when we do the following?"
   ]
  },
  {
   "cell_type": "code",
   "execution_count": null,
   "id": "cf0edd9e",
   "metadata": {
    "deletable": false,
    "editable": false
   },
   "outputs": [],
   "source": [
    "saber_toothed_tiger = Animal(395_000)"
   ]
  },
  {
   "cell_type": "markdown",
   "id": "a2cc13ea",
   "metadata": {
    "deletable": false,
    "editable": false
   },
   "source": [
    "1. Python knows `Animal` is a class, hence `Animal(395_000)` is interpreted as \"create a new object of type `Animal` and pass a reference to it, as well as `395_000` to the initialiser\n",
    "2. The initializer `__init__(self, initial_weight)` gets implicitly called.\n",
    "    - The reference to the newly created object binds to `self` and `395_000` binds to `initial_weight`.\n",
    "    - The `initial_weight` is stored in a newly created _attribute_ of the object called `weight_in_grammes`\n",
    "\n",
    "That _attribute_ part is why the code from above worked:"
   ]
  },
  {
   "cell_type": "code",
   "execution_count": null,
   "id": "7ae1aa03",
   "metadata": {
    "deletable": false,
    "editable": false
   },
   "outputs": [],
   "source": [
    "baby_hamster = Animal(10)\n",
    "chubby_chomper = Animal(50)\n",
    "\n",
    "print(f\"The baby hamster weighs {baby_hamster.weight_in_grammes} grammes.\")\n",
    "print(f\"Our big hamster weighs {chubby_chomper.weight_in_grammes} grammes.\")"
   ]
  },
  {
   "cell_type": "markdown",
   "id": "25c09e6d",
   "metadata": {
    "deletable": false,
    "editable": false
   },
   "source": [
    "Both the `baby_hamster` and the `chubby_chomper` have their own __independent__ attribute `weight_in_grammes`, meaning it can have different values for each.\n",
    "\n",
    "We can also change one without affecting the other:"
   ]
  },
  {
   "cell_type": "code",
   "execution_count": null,
   "id": "03e76a33",
   "metadata": {
    "deletable": false,
    "editable": false
   },
   "outputs": [],
   "source": [
    "baby_hamster.weight_in_grammes += 5\n",
    "\n",
    "print(f\"The baby hamster weighs {baby_hamster.weight_in_grammes} grammes.\")\n",
    "print(f\"Our big hamster weighs {chubby_chomper.weight_in_grammes} grammes.\")"
   ]
  },
  {
   "cell_type": "markdown",
   "id": "c25865c4",
   "metadata": {
    "deletable": false,
    "editable": false
   },
   "source": [
    "Rather than manipulating the _attributes_ of objects directly, we usually want to encapsulate such state alterations of objects into _methods_.\n",
    "\n",
    "Let's implement a _method_ that simulates feeding an `Animal`:"
   ]
  },
  {
   "cell_type": "code",
   "execution_count": null,
   "id": "aa823f20",
   "metadata": {
    "deletable": false,
    "editable": false
   },
   "outputs": [],
   "source": [
    "class Animal:\n",
    "\n",
    "    def __init__(self, initial_weight):\n",
    "        self.weight_in_grammes = initial_weight\n",
    "\n",
    "    def feed(self, food_in_grammes):\n",
    "        self.weight_in_grammes += (food_in_grammes * 0.05)"
   ]
  },
  {
   "cell_type": "markdown",
   "id": "f1349346",
   "metadata": {
    "deletable": false,
    "editable": false
   },
   "source": [
    "Now we can feed our hamster via a nice interface, not manipulating its internal state directly:"
   ]
  },
  {
   "cell_type": "code",
   "execution_count": null,
   "id": "fbc0cd76",
   "metadata": {
    "deletable": false,
    "editable": false
   },
   "outputs": [],
   "source": [
    "baby_hamster = Animal(10)\n",
    "\n",
    "print(f\"The baby hamster weighs {baby_hamster.weight_in_grammes} grammes.\")\n",
    "\n",
    "baby_hamster.feed(10)\n",
    "\n",
    "print(f\"The baby hamster weighs {baby_hamster.weight_in_grammes} grammes after feeding.\")"
   ]
  },
  {
   "cell_type": "markdown",
   "id": "dd0bcec2",
   "metadata": {
    "deletable": false,
    "editable": false
   },
   "source": [
    "Up until now, whenever we wanted a nice string representation of the state of our `Animal`, we had the logic for that _outside_ of the class.\n",
    "\n",
    "Let's change that now, and also add an `is_alive` attribute we'll need in a minute:"
   ]
  },
  {
   "cell_type": "code",
   "execution_count": null,
   "id": "925f6f32",
   "metadata": {
    "deletable": false,
    "editable": false
   },
   "outputs": [],
   "source": [
    "class Animal:\n",
    "\n",
    "    def __init__(self, initial_weight):\n",
    "        self.weight_in_grammes = initial_weight\n",
    "        self.is_alive = True\n",
    "\n",
    "    def feed(self, food_in_grammes):\n",
    "        self.weight_in_grammes += (food_in_grammes * 0.05)\n",
    "\n",
    "    def kill(self):\n",
    "        self.is_alive = False\n",
    "\n",
    "    def __str__(self):\n",
    "        return f\"A{'n' if self.is_alive else ' dead'} animal weighing {self.weight_in_grammes} grammes\""
   ]
  },
  {
   "cell_type": "markdown",
   "id": "f2dd759b",
   "metadata": {
    "deletable": false,
    "editable": false
   },
   "source": [
    "By implementing a `__str__` method, we can add custom logic about how to represent our object when it's being cast into a string, e.g. when being printed:"
   ]
  },
  {
   "cell_type": "code",
   "execution_count": null,
   "id": "3840d3c6",
   "metadata": {
    "deletable": false,
    "editable": false
   },
   "outputs": [],
   "source": [
    "h = Animal(5)\n",
    "print(h)"
   ]
  },
  {
   "cell_type": "code",
   "execution_count": null,
   "id": "81ef0c37",
   "metadata": {
    "deletable": false,
    "editable": false
   },
   "outputs": [],
   "source": [
    "h.kill()\n",
    "print(h)"
   ]
  },
  {
   "cell_type": "markdown",
   "id": "269ec9af",
   "metadata": {
    "deletable": false,
    "editable": false
   },
   "source": [
    "---\n",
    "<a  id='inheritance'></a>\n",
    "## [Inheritance](#top)"
   ]
  },
  {
   "cell_type": "markdown",
   "id": "b4e25edd",
   "metadata": {
    "deletable": false,
    "editable": false
   },
   "source": [
    "What if we want to model a _more specific_ type of `Animal`, let's say a `Carnivore`, that has all the same characteristics as a regular animal, except `feed` works differently?\n",
    "\n",
    "__Inheritance__ let's us do just that:"
   ]
  },
  {
   "cell_type": "markdown",
   "id": "5ee819af",
   "metadata": {
    "deletable": false,
    "editable": false
   },
   "source": [
    "<center><img width=\"550\"  align=\"center\" src=\"attachment:283ab2d3-0cf4-425d-bee0-bcd23e00a8d4.png\" /></center> <br>"
   ]
  },
  {
   "cell_type": "code",
   "execution_count": null,
   "id": "59fc4fe5",
   "metadata": {
    "deletable": false,
    "editable": false
   },
   "outputs": [],
   "source": [
    "class Carnivore(Animal):\n",
    "\n",
    "    def feed(self, prey):\n",
    "        prey.kill()\n",
    "        self.weight_in_grammes += prey.weight_in_grammes * 0.1"
   ]
  },
  {
   "cell_type": "markdown",
   "id": "5e2e91fa",
   "metadata": {
    "deletable": false,
    "editable": false
   },
   "source": [
    ">__Note__: `Carnivore` objects have all the same charactersitics as `Animal` objects, even though we need not write them down within the `Carnivore` class definition block. This is implicitly done by inheriting from class `Animal`. This is syntactically realized by writing the base class `Animal` in brackets behind the inheriting class (also called _sub-class_) `Carnivore`. All `Carnivore`s also have a `weight`, a `feed()` method, can be killed, and have a string representation `__str__()`.\n",
    "\n",
    "This allows us to do the following:"
   ]
  },
  {
   "cell_type": "code",
   "execution_count": null,
   "id": "cfb83ef5",
   "metadata": {
    "deletable": false,
    "editable": false
   },
   "outputs": [],
   "source": [
    "unsuspecting_hamster = Animal(25)\n",
    "majestic_lion = Carnivore(250_000)\n",
    "\n",
    "print(\"Before:\")\n",
    "print(unsuspecting_hamster)\n",
    "print(majestic_lion)\n",
    "\n",
    "majestic_lion.feed(unsuspecting_hamster)\n",
    "\n",
    "print(\"\\nAfter:\")\n",
    "print(unsuspecting_hamster)\n",
    "print(majestic_lion)"
   ]
  },
  {
   "cell_type": "markdown",
   "id": "adb567f2",
   "metadata": {
    "deletable": false,
    "editable": false
   },
   "source": [
    "As you can see, the syntax for inheriting is `class SubClass(BaseClass)`, followed by the class definition block. Every additional feature of the specialized class is defined in the SubClass block. Every feature that is common to both classes is defined in the BaseClass block.\n",
    "\n",
    "We now have a specialized type of `Animal`, that we can also feed other animals as prey. It's not entirely what we asked for though - we wanted to be able to write something like `majestic_lion.feed(unsuspecting_hamster)` - that way we could feed all `Animal`s the same way, without having to know, whether it is an normal `Animal` or a `Carnivore`. This can be achieved by __redefining__ a method, which has already been defined in the BaseClass.\n",
    "\n",
    "What happens if we define our `Carnivore` class like so:"
   ]
  },
  {
   "cell_type": "code",
   "execution_count": null,
   "id": "43a619ce",
   "metadata": {
    "deletable": false,
    "editable": false
   },
   "outputs": [],
   "source": [
    "class Carnivore(Animal):\n",
    "\n",
    "    def feed(self, prey):\n",
    "        prey.kill()\n",
    "        self.weight_in_grammes += prey.weight_in_grammes * 0.1"
   ]
  },
  {
   "cell_type": "markdown",
   "id": "f30c1b0e",
   "metadata": {
    "deletable": false,
    "editable": false
   },
   "source": [
    "We can now write it the way we wanted:"
   ]
  },
  {
   "cell_type": "code",
   "execution_count": null,
   "id": "de46b86b",
   "metadata": {
    "deletable": false,
    "editable": false
   },
   "outputs": [],
   "source": [
    "unsuspecting_hamster = Animal(25)\n",
    "majestic_lion = Carnivore(250_000)\n",
    "\n",
    "print(\"Before:\")\n",
    "print(unsuspecting_hamster)\n",
    "print(majestic_lion)\n",
    "\n",
    "majestic_lion.feed(unsuspecting_hamster)\n",
    "\n",
    "print(\"\\nAfter:\")\n",
    "print(unsuspecting_hamster)\n",
    "print(majestic_lion)"
   ]
  },
  {
   "cell_type": "markdown",
   "id": "0979b053",
   "metadata": {
    "deletable": false,
    "editable": false
   },
   "source": [
    "That is great, but there's one problem. Consider the following:"
   ]
  },
  {
   "cell_type": "code",
   "execution_count": null,
   "id": "35908728",
   "metadata": {
    "deletable": false,
    "editable": false
   },
   "outputs": [],
   "source": [
    "simba = Carnivore(250_000)\n",
    "hamstey = Animal(50)\n",
    "\n",
    "zoo = [simba, hamstey]\n",
    "\n",
    "for animal in zoo:\n",
    "    animal.feed(animal.weight_in_grammes * 0.1)"
   ]
  },
  {
   "cell_type": "markdown",
   "id": "95ca1cc1",
   "metadata": {
    "deletable": false,
    "editable": false
   },
   "source": [
    "We have implemented the `feed` method for a `Carnivore` differently from a standard `Animal`. That in itself is no problem, it is actually kind of the point of _inheritance_: we redefine methods of the specialized class. What is a problem is that we have broken the _interface_ for a `Carnivore` - we can no longer feed it in the _generic_ way we can feed any `Animal`.\n",
    "\n",
    "By implementing a `feed` method on `Carnivore`, we have _overridden_ the original method on `Animal`.\n",
    "\n",
    "As we have just seen, there is nothing in _Python_ stopping us from breaking _interfaces_ in derived classes, it defeats the prupose of _inheritance_ - I should be able to interface with a specialised animal in the same way I interface with a generic animal - plus some additional features.\n",
    "\n",
    "Let's fix that:"
   ]
  },
  {
   "cell_type": "code",
   "execution_count": null,
   "id": "d6d62738",
   "metadata": {
    "deletable": false,
    "editable": false
   },
   "outputs": [],
   "source": [
    "class Carnivore(Animal):\n",
    "\n",
    "    def feed(self, food):\n",
    "        if isinstance(food, Animal):\n",
    "            food.kill()\n",
    "            self.weight_in_grammes += food.weight_in_grammes * 0.1\n",
    "        else:\n",
    "            Animal.feed(self, food) # a vegetarian carinvore ;-)"
   ]
  },
  {
   "cell_type": "markdown",
   "id": "831f7ffb",
   "metadata": {
    "deletable": false,
    "editable": false
   },
   "source": [
    "Let's try feeding our animals again:"
   ]
  },
  {
   "cell_type": "code",
   "execution_count": null,
   "id": "2588a8b1",
   "metadata": {
    "deletable": false,
    "editable": false
   },
   "outputs": [],
   "source": [
    "simba = Carnivore(250_000)\n",
    "hamstey = Animal(50)\n",
    "\n",
    "zoo = [simba, hamstey]\n",
    "\n",
    "print('feed all the animals in a generic way:')\n",
    "print('-'*50)\n",
    "for animal in zoo:\n",
    "    print(animal)\n",
    "    animal.feed(animal.weight_in_grammes * 0.1)\n",
    "    print(animal)\n",
    "\n",
    "print('\\nfeed simba with hamstey => the carnovore way of feeding.')\n",
    "print('-'*50)\n",
    "simba.feed(hamstey)\n",
    "print(simba)\n",
    "print(hamstey)\n"
   ]
  },
  {
   "cell_type": "markdown",
   "id": "05f04152",
   "metadata": {
    "deletable": false,
    "editable": false
   },
   "source": [
    "How did we make that work? One directive does the heavy lifting here:\n",
    "\n",
    "1. `isinstance(type, object)` is a built-in function that returns `True` if and only if the `object` is an instance of `type`. Here are a few examples:\n",
    "\n",
    "    - `isinstance(\"hello\", str) -> True`\n",
    "    - `isinstance(\"hello\", int) -> False`\n",
    "    - `isinstance(simba, Carnivore) -> True`\n",
    "    - `isinstance(simba, Animal) -> True`\n",
    "    \n",
    "The last one might be a bit surprising - `simba` is created calling the `Carrnivore` constructor after all, but since `Carnivore` _inherits_ from `Animal`, __any instance of `Carnivore` is also an instance of `Animal`__.\n",
    "\n",
    "By calling `Animal.feed` from within `Carnivore`, we can explicitely call the `feed` method from our base class, which is what we want here. Note that we have to explicitely pass the `self` parameter here."
   ]
  },
  {
   "cell_type": "markdown",
   "id": "c9ecd32c",
   "metadata": {
    "deletable": false,
    "editable": false
   },
   "source": [
    "---\n",
    "<a  id='addingAttributes'></a>\n",
    "## [Adding Attributes](#top)"
   ]
  },
  {
   "cell_type": "markdown",
   "id": "36bd7619",
   "metadata": {
    "deletable": false,
    "editable": false
   },
   "source": [
    "Let's create an even more specific type of `Carnivore` - a `Seal`. Its special feature is that it can learn tricks, so we'll give it a `tricks` list:"
   ]
  },
  {
   "cell_type": "code",
   "execution_count": null,
   "id": "3c648e45",
   "metadata": {
    "deletable": false,
    "editable": false
   },
   "outputs": [],
   "source": [
    "class Seal(Carnivore):\n",
    "\n",
    "    def __init__(self):\n",
    "        self.tricks = list()\n",
    "\n",
    "    def learn_trick(self, trick_name):\n",
    "        self.tricks.append(trick_name)"
   ]
  },
  {
   "cell_type": "markdown",
   "id": "25482fe8",
   "metadata": {
    "deletable": false,
    "editable": false
   },
   "source": [
    "Let's play around with teaching a `Seal` a trick:"
   ]
  },
  {
   "cell_type": "code",
   "execution_count": null,
   "id": "ebd5618b",
   "metadata": {
    "deletable": false,
    "editable": false
   },
   "outputs": [],
   "source": [
    "sharp_seal = Seal()\n",
    "daft_seal = Seal()\n",
    "\n",
    "sharp_seal.learn_trick('catch fish')\n",
    "\n",
    "print(sharp_seal.tricks)\n",
    "print(daft_seal.tricks)"
   ]
  },
  {
   "cell_type": "markdown",
   "id": "63f078dc",
   "metadata": {
    "deletable": false,
    "editable": false
   },
   "source": [
    "Our `sharp_seal` did good, so let's feed it a fish as well:"
   ]
  },
  {
   "cell_type": "code",
   "execution_count": null,
   "id": "b08d185c",
   "metadata": {
    "deletable": false,
    "editable": false
   },
   "outputs": [],
   "source": [
    "nemo = Animal(500)\n",
    "\n",
    "sharp_seal.feed(nemo)"
   ]
  },
  {
   "cell_type": "markdown",
   "id": "8b5b6130",
   "metadata": {
    "deletable": false,
    "editable": false
   },
   "source": [
    "That's bad. A `Seal` is an `Animal` after all, and like all `Animal`s it should have a `weight_in_grammes`.\n",
    "\n",
    "The issue is that in _Python_, attributes are added __dynamically__ by the initializer. By implementing a custom initializer in `Seal` for adding the additional attribute `tricks`, we ask the _Python_ interpreter to run that when creating a `Seal`, instead of the inherited one in `Animal` - hence the `weight_in_grammes` attribute is never added!\n",
    "\n",
    "So whenever we define a new initializer in an inherting class, we must call the initializer of the baseclass we are inheriting from and pass it all arguments it needs. This will create and initialize all the attributes that are inherited:"
   ]
  },
  {
   "cell_type": "code",
   "execution_count": null,
   "id": "6a4722aa",
   "metadata": {
    "deletable": false,
    "editable": false
   },
   "outputs": [],
   "source": [
    "class Seal(Carnivore):\n",
    "\n",
    "    def __init__(self, *args, **kwargs):\n",
    "        super().__init__(*args, **kwargs)    # initialize the object with attributes of the superclass\n",
    "        self.tricks = list()                 # ... and add the aditional attributes\n",
    "\n",
    "    def learn_trick(self, trick_name):\n",
    "        self.tricks.append(trick_name)"
   ]
  },
  {
   "cell_type": "markdown",
   "id": "c4bf46c4",
   "metadata": {
    "deletable": false,
    "editable": false
   },
   "source": [
    "`super()` let's us refer to the _superclass_ of the class we are currently in. In our case, we call the initialiser from `Carnivore`.\n",
    "\n",
    "> Sidenote: For more complex inheritance graphs with polyinheritance (which _Python_ supports but we don't discuss in this lecture), the logic for which class is meant by `super()` is a bit more involved. If you're interested, you can read about it [here](https://www.python.org/download/releases/2.3/mro/).\n",
    "\n",
    "<center><img width=\"550\"  align=\"center\" src=\"attachment:359b1cdb-5301-4c71-8048-d1dbe753e12e.png\" /></center>\n",
    "<br>\n",
    "Let's make sure it works as expected:"
   ]
  },
  {
   "cell_type": "code",
   "execution_count": null,
   "id": "18175f08",
   "metadata": {
    "deletable": false,
    "editable": false
   },
   "outputs": [],
   "source": [
    "sharp_seal = Seal(50_000)\n",
    "nemo = Animal(500)\n",
    "\n",
    "sharp_seal.feed(nemo)\n",
    "\n",
    "print(sharp_seal)"
   ]
  },
  {
   "cell_type": "markdown",
   "id": "d6edae43",
   "metadata": {
    "deletable": false,
    "editable": false
   },
   "source": [
    "Looks good!"
   ]
  },
  {
   "cell_type": "markdown",
   "id": "07e9b4c5",
   "metadata": {
    "deletable": false,
    "editable": false
   },
   "source": [
    "---\n",
    "<a  id='classesContainingClasses'></a>\n",
    "## [Classes that contain classes](#top)"
   ]
  },
  {
   "cell_type": "markdown",
   "id": "fc161b7c",
   "metadata": {
    "deletable": false,
    "editable": false
   },
   "source": [
    "Now that we've got out `Animal`s, let's also create a class for our `Zoo` with a method that allows us to feed all animals an appropriate amount of food at once:"
   ]
  },
  {
   "cell_type": "code",
   "execution_count": null,
   "id": "41ee959c",
   "metadata": {
    "deletable": false,
    "editable": false
   },
   "outputs": [],
   "source": [
    "class Zoo:\n",
    "\n",
    "    def __init__(self):\n",
    "        self.animals = set()\n",
    "\n",
    "    def add_animal(self, animal):\n",
    "        self.animals.add(animal)\n",
    "\n",
    "    def public_feeding_day(self):\n",
    "        print(\"PUBLIC FEEDING ONGOING\")\n",
    "        for animal in self.animals:\n",
    "            print(\"Now feeding\", animal)\n",
    "            animal.feed(animal.weight_in_grammes * 0.02)\n",
    "        print(\"PUBLIC FEEDING FINISHED\")\n"
   ]
  },
  {
   "cell_type": "markdown",
   "id": "35aab0fc",
   "metadata": {
    "deletable": false,
    "editable": false
   },
   "source": [
    "Now objects of class `Zoo` can contain multiple objects of class `Animal`. Let's give it a spin:"
   ]
  },
  {
   "cell_type": "code",
   "execution_count": null,
   "id": "3bcc04ef",
   "metadata": {
    "deletable": false,
    "editable": false
   },
   "outputs": [],
   "source": [
    "zoo = Zoo()\n",
    "nemo2 = Animal(500)\n",
    "zoo.add_animal(simba)\n",
    "zoo.add_animal(sharp_seal)\n",
    "zoo.add_animal(nemo2)\n",
    "\n",
    "zoo.public_feeding_day()"
   ]
  },
  {
   "cell_type": "markdown",
   "id": "a42709c5",
   "metadata": {
    "deletable": false,
    "editable": false
   },
   "source": [
    "The public feeding method of `Zoo` feeds all animals homogeneously by calling the `feed` method of each animal, no matter, whether it is a normal `Animal`, a `Carnivore`, or a `Seal`."
   ]
  },
  {
   "cell_type": "markdown",
   "id": "6e111335",
   "metadata": {
    "deletable": false,
    "editable": false
   },
   "source": [
    "---\n",
    "<a  id='summary'></a>\n",
    "## [Summary](#top)"
   ]
  },
  {
   "cell_type": "markdown",
   "id": "f09923ce",
   "metadata": {
    "deletable": false,
    "editable": false
   },
   "source": [
    "In this chapter, we have seen the very basics of _object-oriented programming_. You have learned how to\n",
    "\n",
    "+ define your own `class`\n",
    "+ implement methods\n",
    "+ implicitly defining attributes (within `__init()__`\n",
    "+ represent objects as strings, e.g. for printing\n",
    "+ use _inheritance_\n",
    "  + adding new features, e.g. the `tricks` attribute or `learn_tricks()` method\n",
    "  + and/or redefining the bahvior of existing features, such as `feed()`\n",
    "+ iterating over objects of various inheritance levels referred to in one variable (`Animal`s, `Carnivore`s, and `Seal`s in the public feeding loop)\n",
    "\n",
    "In the [next lecture](08_FilesAndExceptions.ipynb) you will learn how to read and write files."
   ]
  }
 ],
 "metadata": {
  "kernelspec": {
   "display_name": "Python 3.10 (ipykernel)",
   "language": "python",
   "name": "python310"
  },
  "language_info": {
   "codemirror_mode": {
    "name": "ipython",
    "version": 3
   },
   "file_extension": ".py",
   "mimetype": "text/x-python",
   "name": "python",
   "nbconvert_exporter": "python",
   "pygments_lexer": "ipython3",
   "version": "3.10.12"
  },
  "notebook_name": "p4ds/09_ObjectOrientation.ipynb"
 },
 "nbformat": 4,
 "nbformat_minor": 5
}
